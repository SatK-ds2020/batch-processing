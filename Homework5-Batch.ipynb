{
 "cells": [
  {
   "cell_type": "code",
   "execution_count": 1,
   "id": "5182c045",
   "metadata": {},
   "outputs": [
    {
     "name": "stderr",
     "output_type": "stream",
     "text": [
      "Setting default log level to \"WARN\".\n",
      "To adjust logging level use sc.setLogLevel(newLevel). For SparkR, use setLogLevel(newLevel).\n"
     ]
    },
    {
     "name": "stdout",
     "output_type": "stream",
     "text": [
      "25/03/01 01:36:56 WARN NativeCodeLoader: Unable to load native-hadoop library for your platform... using builtin-java classes where applicable\n",
      "25/03/01 01:36:57 WARN Utils: Service 'SparkUI' could not bind on port 4040. Attempting port 4041.\n"
     ]
    }
   ],
   "source": [
    "import pyspark\n",
    "from pyspark.sql import SparkSession\n",
    "spark = SparkSession.builder \\\n",
    "    .master(\"local[*]\") \\\n",
    "    .appName('test') \\\n",
    "    .getOrCreate()"
   ]
  },
  {
   "cell_type": "code",
   "execution_count": 80,
   "id": "92959d47",
   "metadata": {},
   "outputs": [
    {
     "data": {
      "text/plain": [
       "'3.3.2'"
      ]
     },
     "execution_count": 80,
     "metadata": {},
     "output_type": "execute_result"
    }
   ],
   "source": [
    "spark.version"
   ]
  },
  {
   "cell_type": "code",
   "execution_count": 11,
   "id": "acc0276a",
   "metadata": {},
   "outputs": [],
   "source": [
    "from pyspark.sql import types"
   ]
  },
  {
   "cell_type": "code",
   "execution_count": 25,
   "id": "510ce82c",
   "metadata": {},
   "outputs": [],
   "source": [
    "import pyarrow.parquet as pq"
   ]
  },
  {
   "cell_type": "code",
   "execution_count": 4,
   "id": "168df027",
   "metadata": {},
   "outputs": [
    {
     "name": "stdout",
     "output_type": "stream",
     "text": [
      "--2025-03-01 01:39:09--  https://d37ci6vzurychx.cloudfront.net/trip-data/yellow_tripdata_2024-10.parquet\n",
      "Resolving d37ci6vzurychx.cloudfront.net (d37ci6vzurychx.cloudfront.net)... 54.230.209.72, 54.230.209.200, 54.230.209.140, ...\n",
      "Connecting to d37ci6vzurychx.cloudfront.net (d37ci6vzurychx.cloudfront.net)|54.230.209.72|:443... connected.\n",
      "HTTP request sent, awaiting response... 200 OK\n",
      "Length: 64346071 (61M) [binary/octet-stream]\n",
      "Saving to: ‘yellow_tripdata_2024-10.parquet’\n",
      "\n",
      "yellow_tripdata_202 100%[===================>]  61.36M  73.1MB/s    in 0.8s    \n",
      "\n",
      "2025-03-01 01:39:10 (73.1 MB/s) - ‘yellow_tripdata_2024-10.parquet’ saved [64346071/64346071]\n",
      "\n"
     ]
    }
   ],
   "source": [
    "!wget https://d37ci6vzurychx.cloudfront.net/trip-data/yellow_tripdata_2024-10.parquet"
   ]
  },
  {
   "cell_type": "code",
   "execution_count": 32,
   "id": "03d41b66",
   "metadata": {},
   "outputs": [
    {
     "name": "stdout",
     "output_type": "stream",
     "text": [
      "25/03/01 02:19:16 WARN CSVHeaderChecker: Number of column in CSV header is not equal to number of fields in the schema:\n",
      " Header length: 2, schema size: 18\n",
      "CSV file: file:///home/suman/batch-pyspark/data/yellow_tripdata_2024-10.parquet\n"
     ]
    },
    {
     "data": {
      "text/plain": [
       "Row(VendorID=None, tpep_pickup_datetime=None, tpep_dropoff_datetime=None, passenger_count=None, trip_distance=None, RatecodeID=None, store_and_fwd_flag=None, PULocationID=None, DOLocationID=None, payment_type=None, fare_amount=None, extra=None, mta_tax=None, tip_amount=None, tolls_amount=None, improvement_surcharge=None, total_amount=None, congestion_surcharge=None)"
      ]
     },
     "execution_count": 32,
     "metadata": {},
     "output_type": "execute_result"
    }
   ],
   "source": [
    "df_yellow_2024.head()"
   ]
  },
  {
   "cell_type": "code",
   "execution_count": 20,
   "id": "f0591fb9",
   "metadata": {},
   "outputs": [],
   "source": [
    "import pandas as pd"
   ]
  },
  {
   "cell_type": "code",
   "execution_count": 26,
   "id": "84072c3e",
   "metadata": {},
   "outputs": [],
   "source": [
    "df_yellow_2024pd = pd.read_parquet('yellow_tripdata_2024-10.parquet')"
   ]
  },
  {
   "cell_type": "code",
   "execution_count": 27,
   "id": "b7f1a476",
   "metadata": {},
   "outputs": [
    {
     "data": {
      "text/html": [
       "<div>\n",
       "<style scoped>\n",
       "    .dataframe tbody tr th:only-of-type {\n",
       "        vertical-align: middle;\n",
       "    }\n",
       "\n",
       "    .dataframe tbody tr th {\n",
       "        vertical-align: top;\n",
       "    }\n",
       "\n",
       "    .dataframe thead th {\n",
       "        text-align: right;\n",
       "    }\n",
       "</style>\n",
       "<table border=\"1\" class=\"dataframe\">\n",
       "  <thead>\n",
       "    <tr style=\"text-align: right;\">\n",
       "      <th></th>\n",
       "      <th>VendorID</th>\n",
       "      <th>tpep_pickup_datetime</th>\n",
       "      <th>tpep_dropoff_datetime</th>\n",
       "      <th>passenger_count</th>\n",
       "      <th>trip_distance</th>\n",
       "      <th>RatecodeID</th>\n",
       "      <th>store_and_fwd_flag</th>\n",
       "      <th>PULocationID</th>\n",
       "      <th>DOLocationID</th>\n",
       "      <th>payment_type</th>\n",
       "      <th>fare_amount</th>\n",
       "      <th>extra</th>\n",
       "      <th>mta_tax</th>\n",
       "      <th>tip_amount</th>\n",
       "      <th>tolls_amount</th>\n",
       "      <th>improvement_surcharge</th>\n",
       "      <th>total_amount</th>\n",
       "      <th>congestion_surcharge</th>\n",
       "      <th>Airport_fee</th>\n",
       "    </tr>\n",
       "  </thead>\n",
       "  <tbody>\n",
       "    <tr>\n",
       "      <th>0</th>\n",
       "      <td>2</td>\n",
       "      <td>2024-10-01 00:30:44</td>\n",
       "      <td>2024-10-01 00:48:26</td>\n",
       "      <td>1.0</td>\n",
       "      <td>3.0</td>\n",
       "      <td>1.0</td>\n",
       "      <td>N</td>\n",
       "      <td>162</td>\n",
       "      <td>246</td>\n",
       "      <td>1</td>\n",
       "      <td>18.4</td>\n",
       "      <td>1.0</td>\n",
       "      <td>0.5</td>\n",
       "      <td>1.5</td>\n",
       "      <td>0.0</td>\n",
       "      <td>1.0</td>\n",
       "      <td>24.9</td>\n",
       "      <td>2.5</td>\n",
       "      <td>0.0</td>\n",
       "    </tr>\n",
       "    <tr>\n",
       "      <th>1</th>\n",
       "      <td>1</td>\n",
       "      <td>2024-10-01 00:12:20</td>\n",
       "      <td>2024-10-01 00:25:25</td>\n",
       "      <td>1.0</td>\n",
       "      <td>2.2</td>\n",
       "      <td>1.0</td>\n",
       "      <td>N</td>\n",
       "      <td>48</td>\n",
       "      <td>236</td>\n",
       "      <td>1</td>\n",
       "      <td>14.2</td>\n",
       "      <td>3.5</td>\n",
       "      <td>0.5</td>\n",
       "      <td>3.8</td>\n",
       "      <td>0.0</td>\n",
       "      <td>1.0</td>\n",
       "      <td>23.0</td>\n",
       "      <td>2.5</td>\n",
       "      <td>0.0</td>\n",
       "    </tr>\n",
       "    <tr>\n",
       "      <th>2</th>\n",
       "      <td>1</td>\n",
       "      <td>2024-10-01 00:04:46</td>\n",
       "      <td>2024-10-01 00:13:52</td>\n",
       "      <td>1.0</td>\n",
       "      <td>2.7</td>\n",
       "      <td>1.0</td>\n",
       "      <td>N</td>\n",
       "      <td>142</td>\n",
       "      <td>24</td>\n",
       "      <td>1</td>\n",
       "      <td>13.5</td>\n",
       "      <td>3.5</td>\n",
       "      <td>0.5</td>\n",
       "      <td>3.7</td>\n",
       "      <td>0.0</td>\n",
       "      <td>1.0</td>\n",
       "      <td>22.2</td>\n",
       "      <td>2.5</td>\n",
       "      <td>0.0</td>\n",
       "    </tr>\n",
       "    <tr>\n",
       "      <th>3</th>\n",
       "      <td>1</td>\n",
       "      <td>2024-10-01 00:12:10</td>\n",
       "      <td>2024-10-01 00:23:01</td>\n",
       "      <td>1.0</td>\n",
       "      <td>3.1</td>\n",
       "      <td>1.0</td>\n",
       "      <td>N</td>\n",
       "      <td>233</td>\n",
       "      <td>75</td>\n",
       "      <td>1</td>\n",
       "      <td>14.2</td>\n",
       "      <td>3.5</td>\n",
       "      <td>0.5</td>\n",
       "      <td>2.0</td>\n",
       "      <td>0.0</td>\n",
       "      <td>1.0</td>\n",
       "      <td>21.2</td>\n",
       "      <td>2.5</td>\n",
       "      <td>0.0</td>\n",
       "    </tr>\n",
       "    <tr>\n",
       "      <th>4</th>\n",
       "      <td>1</td>\n",
       "      <td>2024-10-01 00:30:22</td>\n",
       "      <td>2024-10-01 00:30:39</td>\n",
       "      <td>1.0</td>\n",
       "      <td>0.0</td>\n",
       "      <td>1.0</td>\n",
       "      <td>N</td>\n",
       "      <td>262</td>\n",
       "      <td>262</td>\n",
       "      <td>3</td>\n",
       "      <td>3.0</td>\n",
       "      <td>3.5</td>\n",
       "      <td>0.5</td>\n",
       "      <td>0.0</td>\n",
       "      <td>0.0</td>\n",
       "      <td>1.0</td>\n",
       "      <td>8.0</td>\n",
       "      <td>2.5</td>\n",
       "      <td>0.0</td>\n",
       "    </tr>\n",
       "  </tbody>\n",
       "</table>\n",
       "</div>"
      ],
      "text/plain": [
       "   VendorID tpep_pickup_datetime tpep_dropoff_datetime  passenger_count  \\\n",
       "0         2  2024-10-01 00:30:44   2024-10-01 00:48:26              1.0   \n",
       "1         1  2024-10-01 00:12:20   2024-10-01 00:25:25              1.0   \n",
       "2         1  2024-10-01 00:04:46   2024-10-01 00:13:52              1.0   \n",
       "3         1  2024-10-01 00:12:10   2024-10-01 00:23:01              1.0   \n",
       "4         1  2024-10-01 00:30:22   2024-10-01 00:30:39              1.0   \n",
       "\n",
       "   trip_distance  RatecodeID store_and_fwd_flag  PULocationID  DOLocationID  \\\n",
       "0            3.0         1.0                  N           162           246   \n",
       "1            2.2         1.0                  N            48           236   \n",
       "2            2.7         1.0                  N           142            24   \n",
       "3            3.1         1.0                  N           233            75   \n",
       "4            0.0         1.0                  N           262           262   \n",
       "\n",
       "   payment_type  fare_amount  extra  mta_tax  tip_amount  tolls_amount  \\\n",
       "0             1         18.4    1.0      0.5         1.5           0.0   \n",
       "1             1         14.2    3.5      0.5         3.8           0.0   \n",
       "2             1         13.5    3.5      0.5         3.7           0.0   \n",
       "3             1         14.2    3.5      0.5         2.0           0.0   \n",
       "4             3          3.0    3.5      0.5         0.0           0.0   \n",
       "\n",
       "   improvement_surcharge  total_amount  congestion_surcharge  Airport_fee  \n",
       "0                    1.0          24.9                   2.5          0.0  \n",
       "1                    1.0          23.0                   2.5          0.0  \n",
       "2                    1.0          22.2                   2.5          0.0  \n",
       "3                    1.0          21.2                   2.5          0.0  \n",
       "4                    1.0           8.0                   2.5          0.0  "
      ]
     },
     "execution_count": 27,
     "metadata": {},
     "output_type": "execute_result"
    }
   ],
   "source": [
    "df_yellow_2024pd.head()"
   ]
  },
  {
   "cell_type": "code",
   "execution_count": 65,
   "id": "0c9f7fb0",
   "metadata": {},
   "outputs": [],
   "source": [
    "DY_1024 = spark.read.parquet('yellow_tripdata_2024-10.parquet')"
   ]
  },
  {
   "cell_type": "code",
   "execution_count": 70,
   "id": "13c15663",
   "metadata": {},
   "outputs": [
    {
     "name": "stderr",
     "output_type": "stream",
     "text": [
      "                                                                                \r"
     ]
    }
   ],
   "source": [
    "DY_1024.repartition(4).write  \\\n",
    "    .mode(\"overwrite\").parquet(\"./yellow2024/HW-output-pq/\")"
   ]
  },
  {
   "cell_type": "code",
   "execution_count": 71,
   "id": "0cf96977",
   "metadata": {},
   "outputs": [
    {
     "data": {
      "text/plain": [
       "['VendorID',\n",
       " 'tpep_pickup_datetime',\n",
       " 'tpep_dropoff_datetime',\n",
       " 'passenger_count',\n",
       " 'trip_distance',\n",
       " 'RatecodeID',\n",
       " 'store_and_fwd_flag',\n",
       " 'PULocationID',\n",
       " 'DOLocationID',\n",
       " 'payment_type',\n",
       " 'fare_amount',\n",
       " 'extra',\n",
       " 'mta_tax',\n",
       " 'tip_amount',\n",
       " 'tolls_amount',\n",
       " 'improvement_surcharge',\n",
       " 'total_amount',\n",
       " 'congestion_surcharge',\n",
       " 'Airport_fee']"
      ]
     },
     "execution_count": 71,
     "metadata": {},
     "output_type": "execute_result"
    }
   ],
   "source": [
    "DY_1024.columns"
   ]
  },
  {
   "cell_type": "code",
   "execution_count": 44,
   "id": "d69fe239",
   "metadata": {},
   "outputs": [],
   "source": [
    "from pyspark.sql import functions as F"
   ]
  },
  {
   "cell_type": "code",
   "execution_count": 72,
   "id": "49dcf5fe",
   "metadata": {},
   "outputs": [],
   "source": [
    "DY_1024.registerTempTable('yellow1024')"
   ]
  },
  {
   "cell_type": "code",
   "execution_count": 73,
   "id": "21731a6c",
   "metadata": {},
   "outputs": [
    {
     "name": "stdout",
     "output_type": "stream",
     "text": [
      "+-----------+\n",
      "|total_trips|\n",
      "+-----------+\n",
      "|     128893|\n",
      "+-----------+\n",
      "\n"
     ]
    }
   ],
   "source": [
    "spark.sql(\"\"\"\n",
    "SELECT\n",
    "    count(*)as total_trips\n",
    "FROM\n",
    "    yellow1024\n",
    "WHERE \n",
    "    to_date(tpep_pickup_datetime)= '2024-10-15';\n",
    "\"\"\").show()"
   ]
  },
  {
   "cell_type": "code",
   "execution_count": 79,
   "id": "5e79aa1e",
   "metadata": {},
   "outputs": [
    {
     "name": "stderr",
     "output_type": "stream",
     "text": [
      "\r",
      "[Stage 88:>                                                         (0 + 4) / 4]\r"
     ]
    },
    {
     "name": "stdout",
     "output_type": "stream",
     "text": [
      "+-----------+\n",
      "|total_trips|\n",
      "+-----------+\n",
      "|     128893|\n",
      "+-----------+\n",
      "\n"
     ]
    },
    {
     "name": "stderr",
     "output_type": "stream",
     "text": [
      "\r",
      "[Stage 88:===========================================>              (3 + 1) / 4]\r",
      "\r",
      "                                                                                \r"
     ]
    }
   ],
   "source": [
    "spark.sql(\"\"\"\n",
    "SELECT\n",
    "    COUNT(*) AS total_trips\n",
    "FROM\n",
    "    yellow1024\n",
    "WHERE \n",
    "    EXTRACT(YEAR FROM tpep_pickup_datetime) = 2024 AND\n",
    "    EXTRACT(MONTH FROM tpep_pickup_datetime) = 10 AND\n",
    "    EXTRACT(DAY FROM tpep_pickup_datetime) = 15\n",
    "\"\"\").show()"
   ]
  },
  {
   "cell_type": "code",
   "execution_count": 74,
   "id": "abbb737b",
   "metadata": {},
   "outputs": [
    {
     "data": {
      "text/plain": [
       "128893"
      ]
     },
     "execution_count": 74,
     "metadata": {},
     "output_type": "execute_result"
    }
   ],
   "source": [
    "DY_1024 \\\n",
    "    .withColumn('pickup_date', F.to_date(DY_1024.tpep_pickup_datetime)) \\\n",
    "    .filter(\"pickup_date = '2024-10-15'\") \\\n",
    "    .count()"
   ]
  },
  {
   "cell_type": "code",
   "execution_count": 75,
   "id": "9882fa7b",
   "metadata": {},
   "outputs": [
    {
     "name": "stdout",
     "output_type": "stream",
     "text": [
      "+-----------+-------------+\n",
      "|pickup_date|max(duration)|\n",
      "+-----------+-------------+\n",
      "| 2024-10-16|       585424|\n",
      "| 2024-10-03|       515970|\n",
      "| 2024-10-22|       495938|\n",
      "| 2024-10-18|       413405|\n",
      "| 2024-10-21|       323634|\n",
      "+-----------+-------------+\n",
      "\n"
     ]
    }
   ],
   "source": [
    "DY_1024 \\\n",
    "    .withColumn('duration', DY_1024.tpep_dropoff_datetime.cast('long') - DY_1024.tpep_pickup_datetime.cast('long')) \\\n",
    "    .withColumn('pickup_date', F.to_date(DY_1024.tpep_pickup_datetime)) \\\n",
    "    .groupBy('pickup_date') \\\n",
    "        .max('duration') \\\n",
    "    .orderBy('max(duration)', ascending=False) \\\n",
    "    .limit(5) \\\n",
    "    .show()"
   ]
  },
  {
   "cell_type": "code",
   "execution_count": 78,
   "id": "e40c6357",
   "metadata": {},
   "outputs": [
    {
     "name": "stdout",
     "output_type": "stream",
     "text": [
      "+-----------+------------+\n",
      "|pickup_date|max_duration|\n",
      "+-----------+------------+\n",
      "| 2024-10-16|      162.62|\n",
      "| 2024-10-03|      143.33|\n",
      "| 2024-10-22|      137.76|\n",
      "| 2024-10-18|      114.83|\n",
      "| 2024-10-21|        89.9|\n",
      "+-----------+------------+\n",
      "\n"
     ]
    }
   ],
   "source": [
    "spark.sql(\"\"\"\n",
    "    WITH duration_data AS (\n",
    "        SELECT *, \n",
    "               CAST(tpep_dropoff_datetime AS LONG) - CAST(tpep_pickup_datetime AS LONG) AS duration, \n",
    "               TO_DATE(tpep_pickup_datetime) AS pickup_date\n",
    "          FROM yellow1024\n",
    "    ) \n",
    "    SELECT pickup_date, \n",
    "           ROUND(MAX(duration)/3600,2) AS max_duration\n",
    "      FROM duration_data\n",
    "    GROUP BY pickup_date\n",
    "    ORDER BY max_duration DESC\n",
    "    LIMIT 5;\n",
    "\"\"\").show()\n"
   ]
  },
  {
   "cell_type": "code",
   "execution_count": 54,
   "id": "76b73f65",
   "metadata": {},
   "outputs": [],
   "source": [
    "df_zones = spark.read.parquet('/home/suman/batch-pyspark/zones')"
   ]
  },
  {
   "cell_type": "code",
   "execution_count": 55,
   "id": "887221df",
   "metadata": {},
   "outputs": [
    {
     "data": {
      "text/plain": [
       "['LocationID', 'Borough', 'Zone', 'service_zone']"
      ]
     },
     "execution_count": 55,
     "metadata": {},
     "output_type": "execute_result"
    }
   ],
   "source": [
    "df_zones.columns"
   ]
  },
  {
   "cell_type": "code",
   "execution_count": 57,
   "id": "8d657bb6",
   "metadata": {},
   "outputs": [],
   "source": [
    "df_zones.registerTempTable('zones')"
   ]
  },
  {
   "cell_type": "code",
   "execution_count": 76,
   "id": "74f81e41",
   "metadata": {},
   "outputs": [
    {
     "name": "stderr",
     "output_type": "stream",
     "text": [
      "\r",
      "[Stage 76:>                                                         (0 + 4) / 4]\r",
      "\r",
      "[Stage 76:==============>                                           (1 + 3) / 4]\r"
     ]
    },
    {
     "name": "stdout",
     "output_type": "stream",
     "text": [
      "+-----------------------+----------+\n",
      "|PickUp_DropOff_Location|trip_count|\n",
      "+-----------------------+----------+\n",
      "|   Borough Park / Pe...|         1|\n",
      "|   Melrose South / H...|         1|\n",
      "|   Bay Ridge / Green...|         1|\n",
      "|   East Tremont / St...|         1|\n",
      "|   East Harlem South...|         1|\n",
      "+-----------------------+----------+\n",
      "\n"
     ]
    },
    {
     "name": "stderr",
     "output_type": "stream",
     "text": [
      "\r",
      "                                                                                \r"
     ]
    }
   ],
   "source": [
    "spark.sql(\"\"\"\n",
    "    SELECT\n",
    "        CONCAT(zp.Zone, ' / ', zd.Zone) AS PickUp_DropOff_Location,\n",
    "        COUNT(1) AS trip_count\n",
    "    FROM \n",
    "        yellow1024 y\n",
    "        LEFT JOIN zones zp ON y.PULocationID = zp.LocationID\n",
    "        LEFT JOIN zones zd ON y.DOLocationID = zd.LocationID\n",
    "    GROUP BY \n",
    "        PickUp_DropOff_Location\n",
    "    ORDER BY \n",
    "        trip_count\n",
    "    LIMIT 5;\n",
    "\"\"\").show()"
   ]
  },
  {
   "cell_type": "code",
   "execution_count": 77,
   "id": "cb99263d",
   "metadata": {},
   "outputs": [
    {
     "name": "stderr",
     "output_type": "stream",
     "text": [
      "\r",
      "[Stage 81:==============>                                           (1 + 3) / 4]\r"
     ]
    },
    {
     "name": "stdout",
     "output_type": "stream",
     "text": [
      "+-----------------------+----------+\n",
      "|PickUp_DropOff_Location|trip_count|\n",
      "+-----------------------+----------+\n",
      "|   Borough Park / Pe...|         1|\n",
      "|   Melrose South / H...|         1|\n",
      "|   Bay Ridge / Green...|         1|\n",
      "|   East Tremont / St...|         1|\n",
      "|   East Harlem South...|         1|\n",
      "+-----------------------+----------+\n",
      "\n"
     ]
    },
    {
     "name": "stderr",
     "output_type": "stream",
     "text": [
      "\r",
      "                                                                                \r"
     ]
    }
   ],
   "source": [
    "# Join df_yellow_2024 with zones for pickup and drop-off locations\n",
    "df_joined = DY_1024 \\\n",
    "    .join(df_zones.alias(\"zp\"), DY_1024.PULocationID == F.col(\"zp.LocationID\"), \"left\") \\\n",
    "    .join(df_zones.alias(\"zd\"), DY_1024.DOLocationID == F.col(\"zd.LocationID\"), \"left\")\n",
    "          \n",
    "# Concatenate Zone names for pickup and drop-off locations\n",
    "df_with_location = df_joined.withColumn(\n",
    "    \"PickUp_DropOff_Location\",\n",
    "    F.concat(F.col(\"zp.Zone\"), F.lit(\" / \"), F.col(\"zd.Zone\"))\n",
    ")          \n",
    "# Group by the concatenated pickup and drop-off location, and count trips\n",
    "df_grouped = df_with_location.groupBy(\"PickUp_DropOff_Location\").agg(\n",
    "    F.count(\"*\").alias(\"trip_count\")\n",
    ")   \n",
    " # Order by trip_count in descending order and limit to top 5\n",
    "df_least5 = df_grouped.orderBy(F.col(\"trip_count\").asc()).limit(5)\n",
    "\n",
    "# Show the results\n",
    "df_least5.show()"
   ]
  },
  {
   "cell_type": "code",
   "execution_count": null,
   "id": "0ceb577d",
   "metadata": {},
   "outputs": [],
   "source": []
  }
 ],
 "metadata": {
  "kernelspec": {
   "display_name": "Python 3 (ipykernel)",
   "language": "python",
   "name": "python3"
  },
  "language_info": {
   "codemirror_mode": {
    "name": "ipython",
    "version": 3
   },
   "file_extension": ".py",
   "mimetype": "text/x-python",
   "name": "python",
   "nbconvert_exporter": "python",
   "pygments_lexer": "ipython3",
   "version": "3.9.7"
  }
 },
 "nbformat": 4,
 "nbformat_minor": 5
}
